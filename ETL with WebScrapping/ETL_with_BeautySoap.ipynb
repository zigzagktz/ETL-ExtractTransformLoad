{
 "cells": [
  {
   "cell_type": "code",
   "execution_count": 1,
   "metadata": {},
   "outputs": [
    {
     "data": {
      "text/html": [
       "<style scoped>\n",
       "  .ansiout {\n",
       "    display: block;\n",
       "    unicode-bidi: embed;\n",
       "    white-space: pre-wrap;\n",
       "    word-wrap: break-word;\n",
       "    word-break: break-all;\n",
       "    font-family: \"Source Code Pro\", \"Menlo\", monospace;;\n",
       "    font-size: 13px;\n",
       "    color: #555;\n",
       "    margin-left: 4px;\n",
       "    line-height: 19px;\n",
       "  }\n",
       "</style>\n",
       "<div class=\"ansiout\">Out[5]: True</div>"
      ]
     },
     "metadata": {},
     "output_type": "display_data"
    }
   ],
   "source": [
    "dbutils.library.installPyPI(\"bs4\")\n",
    "#dbutils.library.installPyPI(\"urllib\")\n",
    "dbutils.library.installPyPI(\"request\")"
   ]
  },
  {
   "cell_type": "code",
   "execution_count": 2,
   "metadata": {},
   "outputs": [
    {
     "data": {
      "text/html": [
       "<style scoped>\n",
       "  .ansiout {\n",
       "    display: block;\n",
       "    unicode-bidi: embed;\n",
       "    white-space: pre-wrap;\n",
       "    word-wrap: break-word;\n",
       "    word-break: break-all;\n",
       "    font-family: \"Source Code Pro\", \"Menlo\", monospace;;\n",
       "    font-size: 13px;\n",
       "    color: #555;\n",
       "    margin-left: 4px;\n",
       "    line-height: 19px;\n",
       "  }\n",
       "</style>\n",
       "<div class=\"ansiout\"></div>"
      ]
     },
     "metadata": {},
     "output_type": "display_data"
    }
   ],
   "source": [
    "import urllib\n",
    "from bs4 import BeautifulSoup\n",
    "import requests\n",
    "import json\n",
    "import boto3\n",
    "import time"
   ]
  },
  {
   "cell_type": "code",
   "execution_count": 3,
   "metadata": {},
   "outputs": [
    {
     "data": {
      "text/html": [
       "<style scoped>\n",
       "  .ansiout {\n",
       "    display: block;\n",
       "    unicode-bidi: embed;\n",
       "    white-space: pre-wrap;\n",
       "    word-wrap: break-word;\n",
       "    word-break: break-all;\n",
       "    font-family: \"Source Code Pro\", \"Menlo\", monospace;;\n",
       "    font-size: 13px;\n",
       "    color: #555;\n",
       "    margin-left: 4px;\n",
       "    line-height: 19px;\n",
       "  }\n",
       "</style>\n",
       "<div class=\"ansiout\"></div>"
      ]
     },
     "metadata": {},
     "output_type": "display_data"
    }
   ],
   "source": [
    "class etl:\n",
    "  def __init__(self, url):\n",
    "    self.url = url\n",
    "  \n",
    "  def read_page(self):\n",
    "    l = []\n",
    "    page = urllib.request.urlopen(self.url)\n",
    "    soup = BeautifulSoup(page,\"html.parser\")\n",
    "    headings = soup.find_all('b')\n",
    "    for i in headings:\n",
    "      l.append(i.text)\n",
    "    return l\n",
    "  \n",
    "class convert:\n",
    "  def __init__(self,headings):\n",
    "    self.headings = headings\n",
    "  \n",
    "  def conversion(self):\n",
    "    self.values = json.dumps(headings)\n",
    "    return self.values\n",
    "\n",
    "class load_s3:\n",
    "  def __init__(self, access_key, secret_access_key, values):\n",
    "    self.access_key = access_key\n",
    "    self.secret_access_key = secret_access_key\n",
    "    self.values = values\n",
    "  \n",
    "  def configure():\n",
    "    client = boto3.resource('s3', aws_access_key_id = access_key, aws_secret_access_key = secret_access_key)\n",
    "    client.Bucket(\"jsonforetl\").put_object(Key=\"headings.txt\",Body=values)\n",
    "    "
   ]
  },
  {
   "cell_type": "code",
   "execution_count": 4,
   "metadata": {},
   "outputs": [
    {
     "data": {
      "text/html": [
       "<style scoped>\n",
       "  .ansiout {\n",
       "    display: block;\n",
       "    unicode-bidi: embed;\n",
       "    white-space: pre-wrap;\n",
       "    word-wrap: break-word;\n",
       "    word-break: break-all;\n",
       "    font-family: \"Source Code Pro\", \"Menlo\", monospace;;\n",
       "    font-size: 13px;\n",
       "    color: #555;\n",
       "    margin-left: 4px;\n",
       "    line-height: 19px;\n",
       "  }\n",
       "</style>\n",
       "<div class=\"ansiout\"><span class=\"ansi-red-fg\">---------------------------------------------------------------------------</span>\n",
       "<span class=\"ansi-red-fg\">NameError</span>                                 Traceback (most recent call last)\n",
       "<span class=\"ansi-green-fg\">&lt;command-2692123083562395&gt;</span> in <span class=\"ansi-cyan-fg\">&lt;module&gt;</span>\n",
       "<span class=\"ansi-green-intense-fg ansi-bold\">      9</span> \n",
       "<span class=\"ansi-green-intense-fg ansi-bold\">     10</span>   loading <span class=\"ansi-blue-fg\">=</span> load_s3<span class=\"ansi-blue-fg\">(</span>values <span class=\"ansi-blue-fg\">=</span> values<span class=\"ansi-blue-fg\">,</span> access_key <span class=\"ansi-blue-fg\">=</span> <span class=\"ansi-blue-fg\">&#34;--access key here-- &#34;</span><span class=\"ansi-blue-fg\">,</span> secret_access_key <span class=\"ansi-blue-fg\">=</span> <span class=\"ansi-blue-fg\">&#34;-- secret access key here--&#34;</span><span class=\"ansi-blue-fg\">)</span>\n",
       "<span class=\"ansi-green-fg\">---&gt; 11</span><span class=\"ansi-red-fg\">   </span>load_s3<span class=\"ansi-blue-fg\">.</span>configure<span class=\"ansi-blue-fg\">(</span><span class=\"ansi-blue-fg\">)</span>\n",
       "<span class=\"ansi-green-intense-fg ansi-bold\">     12</span> \n",
       "<span class=\"ansi-green-intense-fg ansi-bold\">     13</span>   time<span class=\"ansi-blue-fg\">.</span>sleep<span class=\"ansi-blue-fg\">(</span><span class=\"ansi-cyan-fg\">120</span><span class=\"ansi-blue-fg\">)</span>\n",
       "\n",
       "<span class=\"ansi-green-fg\">&lt;command-400017753550338&gt;</span> in <span class=\"ansi-cyan-fg\">configure</span><span class=\"ansi-blue-fg\">()</span>\n",
       "<span class=\"ansi-green-intense-fg ansi-bold\">     27</span> \n",
       "<span class=\"ansi-green-intense-fg ansi-bold\">     28</span>   <span class=\"ansi-green-fg\">def</span> configure<span class=\"ansi-blue-fg\">(</span><span class=\"ansi-blue-fg\">)</span><span class=\"ansi-blue-fg\">:</span>\n",
       "<span class=\"ansi-green-fg\">---&gt; 29</span><span class=\"ansi-red-fg\">     </span>client <span class=\"ansi-blue-fg\">=</span> boto3<span class=\"ansi-blue-fg\">.</span>resource<span class=\"ansi-blue-fg\">(</span><span class=\"ansi-blue-fg\">&#39;s3&#39;</span><span class=\"ansi-blue-fg\">,</span> aws_access_key_id <span class=\"ansi-blue-fg\">=</span> access_key<span class=\"ansi-blue-fg\">,</span> aws_secret_access_key <span class=\"ansi-blue-fg\">=</span> secret_access_key<span class=\"ansi-blue-fg\">)</span>\n",
       "<span class=\"ansi-green-intense-fg ansi-bold\">     30</span>     client<span class=\"ansi-blue-fg\">.</span>Bucket<span class=\"ansi-blue-fg\">(</span><span class=\"ansi-blue-fg\">&#34;jsonforetl&#34;</span><span class=\"ansi-blue-fg\">)</span><span class=\"ansi-blue-fg\">.</span>put_object<span class=\"ansi-blue-fg\">(</span>Key<span class=\"ansi-blue-fg\">=</span><span class=\"ansi-blue-fg\">&#34;headings.txt&#34;</span><span class=\"ansi-blue-fg\">,</span>Body<span class=\"ansi-blue-fg\">=</span>values<span class=\"ansi-blue-fg\">)</span>\n",
       "<span class=\"ansi-green-intense-fg ansi-bold\">     31</span> \n",
       "\n",
       "<span class=\"ansi-red-fg\">NameError</span>: name &#39;access_key&#39; is not defined</div>"
      ]
     },
     "metadata": {},
     "output_type": "display_data"
    }
   ],
   "source": [
    "url = \"https://www.kdnuggets.com/news/index.html\"\n",
    "\n",
    "while True:\n",
    "  data = etl(url)\n",
    "  headings =data.read_page()\n",
    "\n",
    "  cov = convert(headings)\n",
    "  values = cov.conversion()\n",
    "\n",
    "  loading = load_s3(values = values, access_key = \"--access key here-- \", secret_access_key = \"-- secret access key here--\")\n",
    "  load_s3.configure()\n",
    "\n",
    "  time.sleep(120)"
   ]
  },
  {
   "cell_type": "code",
   "execution_count": 5,
   "metadata": {},
   "outputs": [],
   "source": []
  }
 ],
 "metadata": {
  "kernelspec": {
   "display_name": "Python 3",
   "language": "python",
   "name": "python3"
  },
  "language_info": {
   "codemirror_mode": {
    "name": "ipython",
    "version": 3
   },
   "file_extension": ".py",
   "mimetype": "text/x-python",
   "name": "python",
   "nbconvert_exporter": "python",
   "pygments_lexer": "ipython3",
   "version": "3.7.1"
  },
  "name": "BeautySoap",
  "notebookId": 400017753550333
 },
 "nbformat": 4,
 "nbformat_minor": 1
}
